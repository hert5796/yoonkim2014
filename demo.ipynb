{
 "cells": [
  {
   "cell_type": "code",
   "execution_count": 14,
   "metadata": {},
   "outputs": [],
   "source": [
    "from tensorflow import keras\n",
    "from json import dumps\n",
    "\n",
    "model = keras.models.load_model('model.h5')\n",
    "\n",
    "word_index = keras.datasets.imdb.get_word_index()\n",
    "def encode_text(text):\n",
    "    tokens = keras.preprocessing.text.text_to_word_sequence(text)\n",
    "    tokens = [word_index[word] if word in word_index else 0 for word in tokens]\n",
    "    return keras.preprocessing.sequence.pad_sequences([tokens], maxlen=400)\n",
    "\n",
    "def evaluate(text):\n",
    "    sentiment = model.predict(encode_text(text))[0][0]\n",
    "    return dumps({\n",
    "        'sentiment': 'positive' if sentiment > 0.5 else 'negative',\n",
    "        'probability': str(sentiment if sentiment > 0.5 else 1 - sentiment),\n",
    "    }, indent=4)"
   ]
  },
  {
   "attachments": {},
   "cell_type": "markdown",
   "metadata": {},
   "source": [
    "# Positives?"
   ]
  },
  {
   "cell_type": "code",
   "execution_count": 45,
   "metadata": {},
   "outputs": [
    {
     "name": "stdout",
     "output_type": "stream",
     "text": [
      "1/1 [==============================] - 0s 24ms/step\n",
      "{\n",
      "    \"sentiment\": \"positive\",\n",
      "    \"probability\": \"0.8251462\"\n",
      "}\n"
     ]
    }
   ],
   "source": [
    "print(evaluate(\"\"\"\n",
    "Parasite is an exceptional masterpiece that expertly blends dark humor, social commentary, and thrilling suspense into a genre-defying film that keeps you on the edge of your seat from start to finish. The performances are superb, the cinematography is stunning, and the story is a masterclass in storytelling that leaves a lasting impact.\n",
    "\"\"\"))"
   ]
  },
  {
   "cell_type": "code",
   "execution_count": 17,
   "metadata": {},
   "outputs": [
    {
     "name": "stdout",
     "output_type": "stream",
     "text": [
      "1/1 [==============================] - 0s 21ms/step\n",
      "{\n",
      "    \"sentiment\": \"positive\",\n",
      "    \"probability\": \"0.72609466\"\n",
      "}\n"
     ]
    }
   ],
   "source": [
    "print(evaluate(\"\"\"\n",
    "John wick 2014 such a superb movie now a days very rare film comes like this which . Such a beautiful writing of the writer and directors awesome direction such intense scene 😣😖 and painful life of a man who came out from some wrong work and leading a peace ful life ,which really touch audience heart 💜❤️. Such a strong antagonist with pleasure heart make story more interesting.Fight scene are also good like natural fights of human being not like that avenger . Main points of these film is writting , bgm, direction, cinematography matters much they didn't add any unnecessary VFX to show film more lengthy . This film is a treat for action or mass film lover don't miss it at any cost but don't expect any unexpected VFX or action.😘😊😊\n",
    "\"\"\"))"
   ]
  },
  {
   "cell_type": "code",
   "execution_count": 43,
   "metadata": {},
   "outputs": [
    {
     "name": "stdout",
     "output_type": "stream",
     "text": [
      "1/1 [==============================] - 0s 23ms/step\n",
      "{\n",
      "    \"sentiment\": \"positive\",\n",
      "    \"probability\": \"0.5709507\"\n",
      "}\n"
     ]
    }
   ],
   "source": [
    "print(evaluate(\"\"\"\n",
    "This movie was an absolute delight. The acting was superb, the direction was masterful, and the script was witty and clever.\n",
    "\"\"\"))"
   ]
  },
  {
   "attachments": {},
   "cell_type": "markdown",
   "metadata": {},
   "source": [
    "# Negatives?"
   ]
  },
  {
   "cell_type": "code",
   "execution_count": 42,
   "metadata": {},
   "outputs": [
    {
     "name": "stdout",
     "output_type": "stream",
     "text": [
      "1/1 [==============================] - 0s 21ms/step\n",
      "{\n",
      "    \"sentiment\": \"negative\",\n",
      "    \"probability\": \"0.7321827411651611\"\n",
      "}\n"
     ]
    }
   ],
   "source": [
    "print(evaluate(\"\"\"\n",
    "I don't know how this movie got made. It's a complete mess from start to finish.\n",
    "\"\"\"))"
   ]
  },
  {
   "cell_type": "code",
   "execution_count": 28,
   "metadata": {},
   "outputs": [
    {
     "name": "stdout",
     "output_type": "stream",
     "text": [
      "1/1 [==============================] - 0s 31ms/step\n",
      "{\n",
      "    \"sentiment\": \"negative\",\n",
      "    \"probability\": \"0.5067498087882996\"\n",
      "}\n"
     ]
    }
   ],
   "source": [
    "# 2017 The Mummy\n",
    "print(evaluate(\"\"\"\n",
    "A plastic product made by mercenaries, pimps and profiteers rather than filmmakers who give a damn.\n",
    "\"\"\"))"
   ]
  },
  {
   "cell_type": "code",
   "execution_count": 41,
   "metadata": {},
   "outputs": [
    {
     "name": "stdout",
     "output_type": "stream",
     "text": [
      "1/1 [==============================] - 0s 33ms/step\n",
      "{\n",
      "    \"sentiment\": \"negative\",\n",
      "    \"probability\": \"0.5669463574886322\"\n",
      "}\n"
     ]
    }
   ],
   "source": [
    "# The Room\n",
    "print(evaluate(\"\"\"\n",
    "This movie was a complete waste of time. The acting was terrible, the special effects were laughable, and the story made no sense.\n",
    "\"\"\"))"
   ]
  }
 ],
 "metadata": {
  "kernelspec": {
   "display_name": "venv",
   "language": "python",
   "name": "python3"
  },
  "language_info": {
   "codemirror_mode": {
    "name": "ipython",
    "version": 3
   },
   "file_extension": ".py",
   "mimetype": "text/x-python",
   "name": "python",
   "nbconvert_exporter": "python",
   "pygments_lexer": "ipython3",
   "version": "3.10.6"
  },
  "orig_nbformat": 4,
  "vscode": {
   "interpreter": {
    "hash": "a3d000f726c069f50c31fbcca9c98d3d3197ac5e4a2c62b7ebb5ab08bb17dd16"
   }
  }
 },
 "nbformat": 4,
 "nbformat_minor": 2
}
